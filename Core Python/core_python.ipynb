{
 "cells": [
  {
   "cell_type": "markdown",
   "metadata": {},
   "source": []
  },
  {
   "cell_type": "code",
   "execution_count": 1,
   "metadata": {},
   "outputs": [
    {
     "name": "stdout",
     "output_type": "stream",
     "text": [
      "Hello World\n"
     ]
    }
   ],
   "source": [
    "print(\"Hello World\")"
   ]
  },
  {
   "cell_type": "markdown",
   "metadata": {},
   "source": []
  },
  {
   "cell_type": "code",
   "execution_count": 2,
   "metadata": {},
   "outputs": [],
   "source": [
    "variable_name = 'value'"
   ]
  },
  {
   "cell_type": "code",
   "execution_count": 3,
   "metadata": {},
   "outputs": [
    {
     "name": "stdout",
     "output_type": "stream",
     "text": [
      "value\n"
     ]
    }
   ],
   "source": [
    "print(variable_name) # How We Print a Output in Python"
   ]
  },
  {
   "cell_type": "code",
   "execution_count": 4,
   "metadata": {},
   "outputs": [
    {
     "data": {
      "text/plain": [
       "'value'"
      ]
     },
     "execution_count": 4,
     "metadata": {},
     "output_type": "execute_result"
    }
   ],
   "source": [
    "variable_name # An Alternative Way to Print a Value in JUPITER NOTEBOOK by just Writing the Last Value in the Cell as the Variable Name"
   ]
  },
  {
   "cell_type": "markdown",
   "metadata": {},
   "source": []
  },
  {
   "cell_type": "code",
   "execution_count": 5,
   "metadata": {},
   "outputs": [
    {
     "name": "stdout",
     "output_type": "stream",
     "text": [
      "<class 'int'>\n"
     ]
    },
    {
     "data": {
      "text/plain": [
       "10"
      ]
     },
     "execution_count": 5,
     "metadata": {},
     "output_type": "execute_result"
    }
   ],
   "source": [
    "a=10\n",
    "print(type(a))\n",
    "a"
   ]
  },
  {
   "cell_type": "code",
   "execution_count": 6,
   "metadata": {},
   "outputs": [
    {
     "name": "stdout",
     "output_type": "stream",
     "text": [
      "<class 'float'>\n"
     ]
    },
    {
     "data": {
      "text/plain": [
       "5.0"
      ]
     },
     "execution_count": 6,
     "metadata": {},
     "output_type": "execute_result"
    }
   ],
   "source": [
    "b=5.0\n",
    "print(type(b))\n",
    "b"
   ]
  },
  {
   "cell_type": "code",
   "execution_count": 7,
   "metadata": {},
   "outputs": [
    {
     "name": "stdout",
     "output_type": "stream",
     "text": [
      "<class 'str'>\n"
     ]
    },
    {
     "data": {
      "text/plain": [
       "'35'"
      ]
     },
     "execution_count": 7,
     "metadata": {},
     "output_type": "execute_result"
    }
   ],
   "source": [
    "c=\"35\"\n",
    "print(type(c))\n",
    "c"
   ]
  },
  {
   "cell_type": "code",
   "execution_count": 8,
   "metadata": {},
   "outputs": [
    {
     "name": "stdout",
     "output_type": "stream",
     "text": [
      "15.0\n"
     ]
    }
   ],
   "source": [
    "d = a+b\n",
    "print(d)"
   ]
  },
  {
   "cell_type": "code",
   "execution_count": 9,
   "metadata": {},
   "outputs": [
    {
     "data": {
      "text/plain": [
       "'\\nd = a+c\\nprint(d)\\n# ERROR\\n'"
      ]
     },
     "execution_count": 9,
     "metadata": {},
     "output_type": "execute_result"
    }
   ],
   "source": [
    "\"\"\"\n",
    "d = a+c\n",
    "print(d)\n",
    "# ERROR\n",
    "\"\"\""
   ]
  },
  {
   "cell_type": "code",
   "execution_count": 10,
   "metadata": {},
   "outputs": [
    {
     "data": {
      "text/plain": [
       "'1035'"
      ]
     },
     "execution_count": 10,
     "metadata": {},
     "output_type": "execute_result"
    }
   ],
   "source": [
    "d=str(a)+c #Converting a to a String and then Adding to Avoid Error\n",
    "d #Adding Multiple Strings Together Gets One Long String"
   ]
  },
  {
   "cell_type": "code",
   "execution_count": 11,
   "metadata": {},
   "outputs": [
    {
     "data": {
      "text/plain": [
       "45"
      ]
     },
     "execution_count": 11,
     "metadata": {},
     "output_type": "execute_result"
    }
   ],
   "source": [
    "d=a+int(c) #Converting a to a Int and then Adding to Avoid Error\n",
    "d #Adding Two Integers Together Gets the Value"
   ]
  },
  {
   "cell_type": "code",
   "execution_count": 12,
   "metadata": {},
   "outputs": [
    {
     "name": "stdout",
     "output_type": "stream",
     "text": [
      "HelloWorld\n"
     ]
    }
   ],
   "source": [
    "print(\"Hello\"+\"World\") #Adding Two Strings"
   ]
  },
  {
   "cell_type": "code",
   "execution_count": 13,
   "metadata": {},
   "outputs": [
    {
     "name": "stdout",
     "output_type": "stream",
     "text": [
      "Hello World\n"
     ]
    }
   ],
   "source": [
    "print(\"Hello\",\"World\") #Combing Two Strings with a Comma Gives a Space"
   ]
  },
  {
   "cell_type": "code",
   "execution_count": 14,
   "metadata": {},
   "outputs": [
    {
     "name": "stdout",
     "output_type": "stream",
     "text": [
      "Hello\tWorld\n"
     ]
    }
   ],
   "source": [
    "print(\"Hello\\tWorld\") #\\t is TAB SPACE"
   ]
  },
  {
   "cell_type": "code",
   "execution_count": 15,
   "metadata": {},
   "outputs": [
    {
     "name": "stdout",
     "output_type": "stream",
     "text": [
      "Hello\n",
      "World\n"
     ]
    }
   ],
   "source": [
    "print(\"Hello\\nWorld\") #\\n is NEW LINE"
   ]
  },
  {
   "attachments": {},
   "cell_type": "markdown",
   "metadata": {},
   "source": []
  },
  {
   "cell_type": "code",
   "execution_count": 16,
   "metadata": {},
   "outputs": [
    {
     "name": "stdout",
     "output_type": "stream",
     "text": [
      "<class 'list'>\n"
     ]
    },
    {
     "data": {
      "text/plain": [
       "['a', 'b', 'c', 'd', 'a']"
      ]
     },
     "execution_count": 16,
     "metadata": {},
     "output_type": "execute_result"
    }
   ],
   "source": [
    "l=[\"a\",\"b\",\"c\",\"d\",\"a\"]\n",
    "print(type(l))\n",
    "l"
   ]
  },
  {
   "cell_type": "code",
   "execution_count": 17,
   "metadata": {},
   "outputs": [
    {
     "name": "stdout",
     "output_type": "stream",
     "text": [
      "a\n",
      "b\n",
      "c\n",
      "d\n",
      "a\n"
     ]
    }
   ],
   "source": [
    "print(l[0]) #Index Value '0' wich is the '1st' Value in the List\n",
    "print(l[1]) #Index Value '1' wich is the '2nd' Value in the List\n",
    "print(l[2]) #Index Value '2' wich is the '3rd' Value in the List\n",
    "print(l[3]) #Index Value '3' wich is the '4th' Value in the List\n",
    "print(l[4]) #Index Value '4' wich is the '5th' Value in the List\n",
    "# print(l[5]) #Index Value '5' wich is the '6th' Value in the List (WHICH DOESNT EXIST)"
   ]
  },
  {
   "cell_type": "code",
   "execution_count": 18,
   "metadata": {},
   "outputs": [
    {
     "name": "stdout",
     "output_type": "stream",
     "text": [
      "a\n",
      "d\n",
      "c\n",
      "b\n",
      "a\n"
     ]
    }
   ],
   "source": [
    "print(l[-1]) #Index Value '-1' wich is the 'THE LAST' Value in the List\n",
    "print(l[-2]) #Index Value '-2' wich is the '2nd LAST' Value in the List\n",
    "print(l[-3]) #Index Value '-3' wich is the '3rd LAST' Value in the List\n",
    "print(l[-4]) #Index Value '-4' wich is the '4th LAST' Value in the List\n",
    "print(l[-5]) #Index Value '-5' wich is the '5th LAST' Value in the List\n",
    "# print(l[-6]) #Index Value '-6' wich is the '6th LAST' Value in the List  (WHICH DOESNT EXIST)"
   ]
  },
  {
   "cell_type": "code",
   "execution_count": 19,
   "metadata": {},
   "outputs": [
    {
     "data": {
      "text/plain": [
       "['a', 'b', 'c', 'd', 'a', 'e']"
      ]
     },
     "execution_count": 19,
     "metadata": {},
     "output_type": "execute_result"
    }
   ],
   "source": [
    "l.append(\"e\")\n",
    "l"
   ]
  },
  {
   "cell_type": "code",
   "execution_count": 20,
   "metadata": {},
   "outputs": [
    {
     "name": "stdout",
     "output_type": "stream",
     "text": [
      "<class 'tuple'>\n"
     ]
    },
    {
     "data": {
      "text/plain": [
       "('a', 'b', 'c', 'd', 'a')"
      ]
     },
     "execution_count": 20,
     "metadata": {},
     "output_type": "execute_result"
    }
   ],
   "source": [
    "t=(\"a\",\"b\",\"c\",\"d\",\"a\") #UNCHANGABLE\n",
    "print(type(t))\n",
    "t"
   ]
  },
  {
   "cell_type": "code",
   "execution_count": 21,
   "metadata": {},
   "outputs": [
    {
     "name": "stdout",
     "output_type": "stream",
     "text": [
      "a\n",
      "b\n",
      "c\n",
      "d\n",
      "a\n",
      "\n",
      "\n",
      "a\n",
      "d\n",
      "c\n",
      "b\n",
      "a\n"
     ]
    }
   ],
   "source": [
    "print(t[0]) #Index Value '0' wich is the '1st' Value in the Tuple\n",
    "print(t[1]) #Index Value '1' wich is the '2nd' Value in the Tuple\n",
    "print(t[2]) #Index Value '2' wich is the '3rd' Value in the Tuple\n",
    "print(t[3]) #Index Value '3' wich is the '4th' Value in the Tuple\n",
    "print(t[4]) #Index Value '4' wich is the '5th' Value in the Tuple\n",
    "# print(t[5]) #Index Value '5' wich is the '6th' Value in the Tuple (WHICH DOESNT EXIST)\n",
    "print(\"\\n\")\n",
    "print(t[-1]) #Index Value '-1' wich is the 'THE LAST' Value in the Tuple\n",
    "print(t[-2]) #Index Value '-2' wich is the '2nd LAST' Value in the Tuple\n",
    "print(t[-3]) #Index Value '-3' wich is the '3rd LAST' Value in the Tuple\n",
    "print(t[-4]) #Index Value '-4' wich is the '4th LAST' Value in the Tuple\n",
    "print(t[-5]) #Index Value '-5' wich is the '5th LAST' Value in the Tuple\n",
    "# print(t[-6]) #Index Value '-6' wich is the '6th LAST' Value in the Tuple  (WHICH DOESNT EXIST)"
   ]
  },
  {
   "cell_type": "code",
   "execution_count": 8,
   "metadata": {},
   "outputs": [
    {
     "name": "stdout",
     "output_type": "stream",
     "text": [
      "<class 'set'>\n"
     ]
    },
    {
     "data": {
      "text/plain": [
       "{'a', 'b', 'c', 'd'}"
      ]
     },
     "execution_count": 8,
     "metadata": {},
     "output_type": "execute_result"
    }
   ],
   "source": [
    "s={\"a\",\"b\",\"c\",\"d\",\"a\"} #UNORDERD, UNCHANGABLE\n",
    "print(type(s))\n",
    "s"
   ]
  },
  {
   "cell_type": "code",
   "execution_count": 23,
   "metadata": {},
   "outputs": [
    {
     "name": "stdout",
     "output_type": "stream",
     "text": [
      "('a', 'b', 'c', 'd', 'a')\n",
      "['a', 'b', 'c', 'd', 'a', 'e']\n",
      "{'a', 'e', 'b', 'd', 'c'}\n",
      "('a', 'e', 'b', 'd', 'c')\n",
      "<class 'tuple'>\n"
     ]
    },
    {
     "data": {
      "text/plain": [
       "('a', 'e', 'b', 'd', 'c')"
      ]
     },
     "execution_count": 23,
     "metadata": {},
     "output_type": "execute_result"
    }
   ],
   "source": [
    "# to APPEND to a TUPLE you Need to First Convert it to a LIST\n",
    "print(t)\n",
    "t=list(t)\n",
    "t.append(\"e\")\n",
    "print(t)\n",
    "# to Remove Duplicated Values Convert to a SET (but it Comes with Risk of NOT HAVING THE SAME ORDER)\n",
    "t = set(t)\n",
    "print(t)\n",
    "#Change it Back to a Tuple\n",
    "t = tuple(t)\n",
    "print(t)\n",
    "print(type(t))\n",
    "t\n"
   ]
  },
  {
   "cell_type": "code",
   "execution_count": 24,
   "metadata": {},
   "outputs": [],
   "source": [
    "r=range(10)#all numbers from 0 to 9\n",
    "r=range(2,10)#all numbers from 2 to "
   ]
  },
  {
   "cell_type": "code",
   "execution_count": 25,
   "metadata": {},
   "outputs": [],
   "source": [
    "b=True\n",
    "b=False"
   ]
  },
  {
   "cell_type": "code",
   "execution_count": 26,
   "metadata": {},
   "outputs": [
    {
     "data": {
      "text/plain": [
       "{'key1': 21, 'key2': 13, 'key3': 20}"
      ]
     },
     "execution_count": 26,
     "metadata": {},
     "output_type": "execute_result"
    }
   ],
   "source": [
    "d={\"key1\":10,\"key2\":13,\"key3\":20,\"key1\":40,\"key1\":21} #Mapped by Key Values and Duplicated Keys Not Allowed\n",
    "d"
   ]
  },
  {
   "cell_type": "code",
   "execution_count": 27,
   "metadata": {},
   "outputs": [
    {
     "name": "stdout",
     "output_type": "stream",
     "text": [
      "21\n",
      "13\n",
      "20\n"
     ]
    }
   ],
   "source": [
    "print(d[\"key1\"])\n",
    "print(d[\"key2\"])\n",
    "print(d[\"key3\"])"
   ]
  },
  {
   "cell_type": "markdown",
   "metadata": {},
   "source": []
  },
  {
   "cell_type": "code",
   "execution_count": 28,
   "metadata": {},
   "outputs": [],
   "source": [
    "# Python Arithmetic Operators"
   ]
  },
  {
   "cell_type": "code",
   "execution_count": 29,
   "metadata": {},
   "outputs": [],
   "source": [
    "val1 = 10\n",
    "val2 = 5"
   ]
  },
  {
   "cell_type": "code",
   "execution_count": 30,
   "metadata": {},
   "outputs": [
    {
     "name": "stdout",
     "output_type": "stream",
     "text": [
      "15\n"
     ]
    }
   ],
   "source": [
    "print(val1+val2)"
   ]
  },
  {
   "cell_type": "code",
   "execution_count": 31,
   "metadata": {},
   "outputs": [
    {
     "name": "stdout",
     "output_type": "stream",
     "text": [
      "5\n"
     ]
    }
   ],
   "source": [
    "print(val1-val2)"
   ]
  },
  {
   "cell_type": "code",
   "execution_count": 32,
   "metadata": {},
   "outputs": [
    {
     "name": "stdout",
     "output_type": "stream",
     "text": [
      "50\n"
     ]
    }
   ],
   "source": [
    "print(val1*val2)"
   ]
  },
  {
   "cell_type": "code",
   "execution_count": 33,
   "metadata": {},
   "outputs": [
    {
     "name": "stdout",
     "output_type": "stream",
     "text": [
      "2.0\n"
     ]
    }
   ],
   "source": [
    "print(val1/val2) #Divides (returns a Float Value)"
   ]
  },
  {
   "cell_type": "code",
   "execution_count": 34,
   "metadata": {},
   "outputs": [
    {
     "name": "stdout",
     "output_type": "stream",
     "text": [
      "2\n"
     ]
    }
   ],
   "source": [
    "print(int(val1/val2)) #First Way to Divide and Return an Integer Value"
   ]
  },
  {
   "cell_type": "code",
   "execution_count": 35,
   "metadata": {},
   "outputs": [
    {
     "name": "stdout",
     "output_type": "stream",
     "text": [
      "2\n"
     ]
    }
   ],
   "source": [
    "print(val1//val2) #Floor Division (Second Way to Divide and Return an Integer Value)"
   ]
  },
  {
   "cell_type": "code",
   "execution_count": 36,
   "metadata": {},
   "outputs": [
    {
     "name": "stdout",
     "output_type": "stream",
     "text": [
      "100000\n"
     ]
    }
   ],
   "source": [
    "print(val1**val2) #Exponential Operator"
   ]
  },
  {
   "cell_type": "code",
   "execution_count": 37,
   "metadata": {},
   "outputs": [
    {
     "name": "stdout",
     "output_type": "stream",
     "text": [
      "0\n"
     ]
    }
   ],
   "source": [
    "print(val1%val2) #Modulus Operator (RETURNS THE REMAINDER OF DEVIDING THE VALUES)"
   ]
  },
  {
   "cell_type": "code",
   "execution_count": 38,
   "metadata": {},
   "outputs": [],
   "source": [
    "# Python Assignment Operators"
   ]
  },
  {
   "cell_type": "code",
   "execution_count": 39,
   "metadata": {},
   "outputs": [],
   "source": [
    "val = 20 #Assigning a Value to a Variable"
   ]
  },
  {
   "cell_type": "code",
   "execution_count": 40,
   "metadata": {},
   "outputs": [
    {
     "data": {
      "text/plain": [
       "21"
      ]
     },
     "execution_count": 40,
     "metadata": {},
     "output_type": "execute_result"
    }
   ],
   "source": [
    "# Incrementaion\n",
    "val += 1 # val = val + 1\n",
    "val"
   ]
  },
  {
   "cell_type": "code",
   "execution_count": 41,
   "metadata": {},
   "outputs": [
    {
     "data": {
      "text/plain": [
       "20"
      ]
     },
     "execution_count": 41,
     "metadata": {},
     "output_type": "execute_result"
    }
   ],
   "source": [
    "# Decrementaion\n",
    "val -= 1 # val = val + 1\n",
    "val"
   ]
  },
  {
   "cell_type": "code",
   "execution_count": 42,
   "metadata": {},
   "outputs": [
    {
     "data": {
      "text/plain": [
       "20"
      ]
     },
     "execution_count": 42,
     "metadata": {},
     "output_type": "execute_result"
    }
   ],
   "source": [
    "val *= 1 # val = val + 1\n",
    "val"
   ]
  },
  {
   "cell_type": "code",
   "execution_count": 43,
   "metadata": {},
   "outputs": [
    {
     "data": {
      "text/plain": [
       "20.0"
      ]
     },
     "execution_count": 43,
     "metadata": {},
     "output_type": "execute_result"
    }
   ],
   "source": [
    "val /= 1 # val = val + 1\n",
    "val"
   ]
  },
  {
   "cell_type": "code",
   "execution_count": 44,
   "metadata": {},
   "outputs": [
    {
     "data": {
      "text/plain": [
       "0.0"
      ]
     },
     "execution_count": 44,
     "metadata": {},
     "output_type": "execute_result"
    }
   ],
   "source": [
    "val //= 1 # val = val // 1\n",
    "val **= 1 # val = val ** 1\n",
    "val %= 1 # val = val % 1\n",
    "val"
   ]
  },
  {
   "cell_type": "code",
   "execution_count": 45,
   "metadata": {},
   "outputs": [],
   "source": [
    "# Python Comparison Operators"
   ]
  },
  {
   "cell_type": "code",
   "execution_count": 46,
   "metadata": {},
   "outputs": [
    {
     "name": "stdout",
     "output_type": "stream",
     "text": [
      "Value 1 = 10\n",
      "Value 2 = 5\n"
     ]
    }
   ],
   "source": [
    "print(\"Value 1 =\",val1)\n",
    "print(\"Value 2 =\",val2)"
   ]
  },
  {
   "cell_type": "code",
   "execution_count": 47,
   "metadata": {},
   "outputs": [
    {
     "name": "stdout",
     "output_type": "stream",
     "text": [
      "False\n"
     ]
    }
   ],
   "source": [
    "print(val1 == val2) #EQUAL"
   ]
  },
  {
   "cell_type": "code",
   "execution_count": 48,
   "metadata": {},
   "outputs": [
    {
     "name": "stdout",
     "output_type": "stream",
     "text": [
      "True\n"
     ]
    }
   ],
   "source": [
    "print(val1 != val2) #NOT-EQUAL"
   ]
  },
  {
   "cell_type": "code",
   "execution_count": 49,
   "metadata": {},
   "outputs": [
    {
     "name": "stdout",
     "output_type": "stream",
     "text": [
      "False\n"
     ]
    }
   ],
   "source": [
    "print(val1 < val2) #LESS THAN"
   ]
  },
  {
   "cell_type": "code",
   "execution_count": 50,
   "metadata": {},
   "outputs": [
    {
     "name": "stdout",
     "output_type": "stream",
     "text": [
      "True\n"
     ]
    }
   ],
   "source": [
    "print(val1 > val2) #MORE THAN"
   ]
  },
  {
   "cell_type": "code",
   "execution_count": 51,
   "metadata": {},
   "outputs": [
    {
     "name": "stdout",
     "output_type": "stream",
     "text": [
      "True\n"
     ]
    }
   ],
   "source": [
    "print(val1 <= val2) #LESS THAN or EQUAL TO"
   ]
  },
  {
   "cell_type": "code",
   "execution_count": 52,
   "metadata": {},
   "outputs": [
    {
     "name": "stdout",
     "output_type": "stream",
     "text": [
      "False\n"
     ]
    }
   ],
   "source": [
    "print(val1 >= val2) #MORE THAN or EQUAL TO"
   ]
  },
  {
   "cell_type": "code",
   "execution_count": 53,
   "metadata": {},
   "outputs": [],
   "source": [
    "# Python Logical Operators"
   ]
  },
  {
   "cell_type": "code",
   "execution_count": 54,
   "metadata": {},
   "outputs": [
    {
     "name": "stdout",
     "output_type": "stream",
     "text": [
      "False\n"
     ]
    }
   ],
   "source": [
    "# print(val1 == val2 and val1 != val2)\n",
    "print(False and True) #FALSE"
   ]
  },
  {
   "cell_type": "code",
   "execution_count": 55,
   "metadata": {},
   "outputs": [
    {
     "name": "stdout",
     "output_type": "stream",
     "text": [
      "False\n"
     ]
    }
   ],
   "source": [
    "print(True and False) #FALSE"
   ]
  },
  {
   "cell_type": "markdown",
   "metadata": {},
   "source": [
    "print(False and False) #FALSE"
   ]
  },
  {
   "cell_type": "code",
   "execution_count": 57,
   "metadata": {},
   "outputs": [
    {
     "name": "stdout",
     "output_type": "stream",
     "text": [
      "True\n"
     ]
    }
   ],
   "source": [
    "print(True and True) #TRUE"
   ]
  },
  {
   "cell_type": "code",
   "execution_count": 58,
   "metadata": {},
   "outputs": [
    {
     "name": "stdout",
     "output_type": "stream",
     "text": [
      "True\n"
     ]
    }
   ],
   "source": [
    "# print(val1 == val2 or val1 != val2)\n",
    "print(False or True) #TRUE"
   ]
  },
  {
   "cell_type": "code",
   "execution_count": 59,
   "metadata": {},
   "outputs": [
    {
     "name": "stdout",
     "output_type": "stream",
     "text": [
      "True\n"
     ]
    }
   ],
   "source": [
    "print(True or False) #TRUE"
   ]
  },
  {
   "cell_type": "code",
   "execution_count": 60,
   "metadata": {},
   "outputs": [
    {
     "name": "stdout",
     "output_type": "stream",
     "text": [
      "False\n"
     ]
    }
   ],
   "source": [
    "print(False or False) #FALSE"
   ]
  },
  {
   "cell_type": "code",
   "execution_count": 61,
   "metadata": {},
   "outputs": [
    {
     "name": "stdout",
     "output_type": "stream",
     "text": [
      "True\n"
     ]
    }
   ],
   "source": [
    "print(False or True) #TRUE"
   ]
  },
  {
   "cell_type": "code",
   "execution_count": 62,
   "metadata": {},
   "outputs": [
    {
     "name": "stdout",
     "output_type": "stream",
     "text": [
      "False\n"
     ]
    }
   ],
   "source": [
    "# print(not(val1 != val2))\n",
    "print(not(True)) #FALSE"
   ]
  },
  {
   "cell_type": "code",
   "execution_count": 63,
   "metadata": {},
   "outputs": [
    {
     "name": "stdout",
     "output_type": "stream",
     "text": [
      "True\n"
     ]
    }
   ],
   "source": [
    "# print(not(val1 == val2))\n",
    "print(not(False)) #TRUE"
   ]
  },
  {
   "cell_type": "code",
   "execution_count": 64,
   "metadata": {},
   "outputs": [
    {
     "data": {
      "text/plain": [
       "'is'"
      ]
     },
     "execution_count": 64,
     "metadata": {},
     "output_type": "execute_result"
    }
   ],
   "source": [
    "# Python Identity Operators\n",
    "'''is'''"
   ]
  },
  {
   "cell_type": "code",
   "execution_count": 65,
   "metadata": {},
   "outputs": [
    {
     "data": {
      "text/plain": [
       "['apple', 'banana']"
      ]
     },
     "execution_count": 65,
     "metadata": {},
     "output_type": "execute_result"
    }
   ],
   "source": [
    "x = [\"apple\", \"banana\"]\n",
    "y = [\"apple\", \"banana\"]\n",
    "z = x\n",
    "\n",
    "z"
   ]
  },
  {
   "cell_type": "code",
   "execution_count": 66,
   "metadata": {},
   "outputs": [
    {
     "name": "stdout",
     "output_type": "stream",
     "text": [
      "True\n"
     ]
    }
   ],
   "source": [
    "print(x is z) # returns True because z is the same object as x"
   ]
  },
  {
   "cell_type": "code",
   "execution_count": 67,
   "metadata": {},
   "outputs": [
    {
     "name": "stdout",
     "output_type": "stream",
     "text": [
      "False\n"
     ]
    }
   ],
   "source": [
    "print(x is y) # returns False because x is not the same object as y, even if they have the same content"
   ]
  },
  {
   "cell_type": "code",
   "execution_count": 68,
   "metadata": {},
   "outputs": [
    {
     "name": "stdout",
     "output_type": "stream",
     "text": [
      "True\n"
     ]
    }
   ],
   "source": [
    "print(x == y) # to demonstrate the difference betweeen \"is\" and \"==\": this comparison returns True because x is equal to y"
   ]
  },
  {
   "cell_type": "code",
   "execution_count": 69,
   "metadata": {},
   "outputs": [
    {
     "name": "stdout",
     "output_type": "stream",
     "text": [
      "False\n"
     ]
    }
   ],
   "source": [
    "print(x is not z) # returns False because z is the same object as x"
   ]
  },
  {
   "cell_type": "code",
   "execution_count": 70,
   "metadata": {},
   "outputs": [
    {
     "name": "stdout",
     "output_type": "stream",
     "text": [
      "True\n"
     ]
    }
   ],
   "source": [
    "print(x is not y) # returns True because x is not the same object as y, even if they have the same content"
   ]
  },
  {
   "cell_type": "code",
   "execution_count": 71,
   "metadata": {},
   "outputs": [
    {
     "name": "stdout",
     "output_type": "stream",
     "text": [
      "False\n"
     ]
    }
   ],
   "source": [
    "print(x != y) # to demonstrate the difference betweeen \"is not\" and \"!=\": this comparison returns False because x is equal to y"
   ]
  },
  {
   "cell_type": "code",
   "execution_count": 72,
   "metadata": {},
   "outputs": [
    {
     "data": {
      "text/plain": [
       "'in'"
      ]
     },
     "execution_count": 72,
     "metadata": {},
     "output_type": "execute_result"
    }
   ],
   "source": [
    "# Python Membership Operators\n",
    "'''in'''"
   ]
  },
  {
   "cell_type": "code",
   "execution_count": 73,
   "metadata": {},
   "outputs": [
    {
     "data": {
      "text/plain": [
       "['apple', 'banana']"
      ]
     },
     "execution_count": 73,
     "metadata": {},
     "output_type": "execute_result"
    }
   ],
   "source": [
    "z = [\"apple\", \"banana\"]\n",
    "z"
   ]
  },
  {
   "cell_type": "code",
   "execution_count": 74,
   "metadata": {},
   "outputs": [
    {
     "name": "stdout",
     "output_type": "stream",
     "text": [
      "True\n"
     ]
    }
   ],
   "source": [
    "print(\"banana\" in z) # returns True because a sequence with the value \"banana\" is in the list"
   ]
  },
  {
   "cell_type": "code",
   "execution_count": 75,
   "metadata": {},
   "outputs": [
    {
     "name": "stdout",
     "output_type": "stream",
     "text": [
      "False\n"
     ]
    }
   ],
   "source": [
    "print(\"banana\" not in z)"
   ]
  },
  {
   "cell_type": "code",
   "execution_count": 76,
   "metadata": {},
   "outputs": [
    {
     "name": "stdout",
     "output_type": "stream",
     "text": [
      "False\n"
     ]
    }
   ],
   "source": [
    "print(\"pineapple\" in z)"
   ]
  },
  {
   "cell_type": "code",
   "execution_count": 77,
   "metadata": {},
   "outputs": [
    {
     "name": "stdout",
     "output_type": "stream",
     "text": [
      "True\n"
     ]
    }
   ],
   "source": [
    "print(\"pineapple\" not in z) # returns True because a sequence with the value \"pineapple\" is not in the list"
   ]
  },
  {
   "cell_type": "markdown",
   "metadata": {},
   "source": []
  },
  {
   "cell_type": "code",
   "execution_count": 78,
   "metadata": {},
   "outputs": [
    {
     "data": {
      "text/plain": [
       "'\\nstr_s = input(\"Enter a Value :\")\\nstr_i = int(input(\"Enter a Number :\"))\\nstr_f = float(input(\"Enter a Decimal :\"))\\n'"
      ]
     },
     "execution_count": 78,
     "metadata": {},
     "output_type": "execute_result"
    }
   ],
   "source": [
    "\"\"\"\n",
    "str_s = input(\"Enter a Value :\")\n",
    "str_i = int(input(\"Enter a Number :\"))\n",
    "str_f = float(input(\"Enter a Decimal :\"))\n",
    "\"\"\""
   ]
  },
  {
   "cell_type": "markdown",
   "metadata": {},
   "source": []
  },
  {
   "cell_type": "code",
   "execution_count": 79,
   "metadata": {},
   "outputs": [],
   "source": [
    "VAL1=10\n",
    "VAL2=20"
   ]
  },
  {
   "cell_type": "code",
   "execution_count": 80,
   "metadata": {},
   "outputs": [
    {
     "name": "stdout",
     "output_type": "stream",
     "text": [
      "A is equal to B\n"
     ]
    }
   ],
   "source": [
    "if(VAL1!=VAL2): #TRUE\n",
    "    print(\"A is equal to B\")\n",
    "\n",
    "#IF Prints as the Condition is Proven True"
   ]
  },
  {
   "cell_type": "code",
   "execution_count": 81,
   "metadata": {},
   "outputs": [],
   "source": [
    "if(VAL1==VAL2): #FALSE\n",
    "    print(\"A is equal to B\")\n",
    "\n",
    "#IF doesnt Print as the Condition is Proven False"
   ]
  },
  {
   "cell_type": "code",
   "execution_count": 82,
   "metadata": {},
   "outputs": [
    {
     "name": "stdout",
     "output_type": "stream",
     "text": [
      "else\n"
     ]
    }
   ],
   "source": [
    "if(VAL1==VAL2): #FALSE\n",
    "    print(\"A is equal to B\")\n",
    "else:\n",
    "    print(\"else\")\n",
    "\n",
    "#ELSE Prints cause IF was FALSE"
   ]
  },
  {
   "cell_type": "code",
   "execution_count": 83,
   "metadata": {},
   "outputs": [
    {
     "name": "stdout",
     "output_type": "stream",
     "text": [
      "A is not equal to B\n"
     ]
    }
   ],
   "source": [
    "if(VAL1==VAL2): #FALSE\n",
    "    print(\"A is equal to B\")\n",
    "elif(VAL1!=VAL2): #TRUE\n",
    "    print(\"A is not equal to B\")\n",
    "else:\n",
    "    print(\"else\")\n",
    "\n",
    "# ELIF was Proven True so it is Excecuted"
   ]
  },
  {
   "cell_type": "code",
   "execution_count": null,
   "metadata": {},
   "outputs": [],
   "source": [
    "if(VAL1==VAL2): #FALSE\n",
    "    print(\"A is equal to B\")\n",
    "elif(VAL1!=VAL2): #TRUE\n",
    "    print(\"A is not equal to B\")\n",
    "\n",
    "\n",
    "# ELSE is not Compulsory to Use"
   ]
  },
  {
   "cell_type": "code",
   "execution_count": 84,
   "metadata": {},
   "outputs": [
    {
     "name": "stdout",
     "output_type": "stream",
     "text": [
      "A is less than B\n"
     ]
    }
   ],
   "source": [
    "if(VAL1==VAL2): #FALSE\n",
    "    print(\"A is equal to B\")\n",
    "elif(VAL1>VAL2): #FALSE\n",
    "    print(\"A is greater than B\")\n",
    "elif(VAL1<VAL2): #TRUE\n",
    "    print(\"A is less than B\")\n",
    "else:\n",
    "    print(\"else\")\n",
    "\n",
    "#the ELIF which is Proven True is Excecuted"
   ]
  },
  {
   "cell_type": "code",
   "execution_count": 85,
   "metadata": {},
   "outputs": [
    {
     "name": "stdout",
     "output_type": "stream",
     "text": [
      "A is less than B\n"
     ]
    }
   ],
   "source": [
    "if(VAL1==VAL2): #FALSE\n",
    "    print(\"A is equal to B\")\n",
    "elif(VAL1>VAL2): #FALSE\n",
    "    print(\"A is greater than B\")\n",
    "elif(VAL1<VAL2): #TRUE\n",
    "    print(\"A is less than B\")\n",
    "elif(VAL1!=VAL2): #TRUE\n",
    "    print(\"A is not equal to B\")\n",
    "else:\n",
    "    print(\"else\")\n",
    "\n",
    "#the ELIF which is Proven True First is Excecuted even tho there is another True ELIF Condition which Ultimately wont get Excecuted"
   ]
  },
  {
   "cell_type": "markdown",
   "metadata": {},
   "source": []
  },
  {
   "cell_type": "code",
   "execution_count": 86,
   "metadata": {},
   "outputs": [],
   "source": [
    "Start=0\n",
    "End=10"
   ]
  },
  {
   "cell_type": "code",
   "execution_count": 87,
   "metadata": {},
   "outputs": [
    {
     "name": "stdout",
     "output_type": "stream",
     "text": [
      "0\n",
      "1\n",
      "2\n",
      "3\n",
      "4\n",
      "5\n",
      "6\n",
      "7\n",
      "8\n",
      "9\n",
      "10\n"
     ]
    }
   ],
   "source": [
    "for i in range(Start,End+1): #Print all numbers till a given number\n",
    "    print(i)\n"
   ]
  },
  {
   "cell_type": "code",
   "execution_count": 88,
   "metadata": {},
   "outputs": [
    {
     "name": "stdout",
     "output_type": "stream",
     "text": [
      "10\n",
      "9\n",
      "8\n",
      "7\n",
      "6\n",
      "5\n",
      "4\n",
      "3\n",
      "2\n",
      "1\n",
      "0\n"
     ]
    }
   ],
   "source": [
    "'''\n",
    "while(Start<=End): #Print all numbers till a given number\n",
    "    print(Start)\n",
    "    Start+=1 # Start=Start+1\n",
    "'''\n",
    "while(End>=Start): #Print all numbers to a Given Number in Reverse\n",
    "    print(End)\n",
    "    End-=1 # End=End-1"
   ]
  },
  {
   "attachments": {},
   "cell_type": "markdown",
   "metadata": {},
   "source": []
  },
  {
   "cell_type": "code",
   "execution_count": 89,
   "metadata": {},
   "outputs": [
    {
     "name": "stdout",
     "output_type": "stream",
     "text": [
      "Hello World!\n"
     ]
    }
   ],
   "source": [
    "def p():\n",
    "    print(\"Hello World!\")\n",
    "p()"
   ]
  },
  {
   "cell_type": "code",
   "execution_count": 90,
   "metadata": {},
   "outputs": [
    {
     "name": "stdout",
     "output_type": "stream",
     "text": [
      "Hello World!\n",
      "Hello World!\n"
     ]
    }
   ],
   "source": [
    "p()\n",
    "p()\n"
   ]
  },
  {
   "cell_type": "code",
   "execution_count": 91,
   "metadata": {},
   "outputs": [
    {
     "name": "stdout",
     "output_type": "stream",
     "text": [
      "Hello World!\n"
     ]
    }
   ],
   "source": [
    "def p(v):\n",
    "    print(v)\n",
    "p(\"Hello World!\")"
   ]
  },
  {
   "cell_type": "code",
   "execution_count": 92,
   "metadata": {},
   "outputs": [
    {
     "name": "stdout",
     "output_type": "stream",
     "text": [
      "My Name is Jonathan\n",
      "1805\n"
     ]
    }
   ],
   "source": [
    "p(\"My Name is Jonathan\")\n",
    "p(1805)"
   ]
  },
  {
   "cell_type": "code",
   "execution_count": 93,
   "metadata": {},
   "outputs": [
    {
     "name": "stdout",
     "output_type": "stream",
     "text": [
      "HelloWorld\n",
      "JonathanChacko\n"
     ]
    }
   ],
   "source": [
    "def r(v1,v2):\n",
    "    print(v1+v2)\n",
    "r(\"Hello\",\"World\")\n",
    "r(\"Jonathan\",\"Chacko\")"
   ]
  },
  {
   "cell_type": "code",
   "execution_count": 94,
   "metadata": {},
   "outputs": [],
   "source": [
    "def r(v1,v2):\n",
    "    v = v1+v2\n",
    "    return v"
   ]
  },
  {
   "cell_type": "code",
   "execution_count": 95,
   "metadata": {},
   "outputs": [
    {
     "name": "stdout",
     "output_type": "stream",
     "text": [
      "HelloWorld\n"
     ]
    }
   ],
   "source": [
    "rtd = r(\"Hello\",\"World\")\n",
    "print(rtd)"
   ]
  },
  {
   "cell_type": "code",
   "execution_count": 96,
   "metadata": {},
   "outputs": [
    {
     "name": "stdout",
     "output_type": "stream",
     "text": [
      "JonathanChacko\n"
     ]
    }
   ],
   "source": [
    "print(r(\"Jonathan\",\"Chacko\"))"
   ]
  },
  {
   "cell_type": "markdown",
   "metadata": {},
   "source": []
  },
  {
   "cell_type": "code",
   "execution_count": 97,
   "metadata": {},
   "outputs": [
    {
     "name": "stdout",
     "output_type": "stream",
     "text": [
      "Jonathan\n"
     ]
    }
   ],
   "source": [
    "class person():\n",
    "    def function_name(self):\n",
    "        self.name = \"Jonathan\"\n",
    "\n",
    "obj = person()\n",
    "obj.function_name() #Initialising the Function and Everything in it.\n",
    "print(obj.name)"
   ]
  },
  {
   "cell_type": "code",
   "execution_count": 98,
   "metadata": {},
   "outputs": [
    {
     "name": "stdout",
     "output_type": "stream",
     "text": [
      "Jonathan\n"
     ]
    }
   ],
   "source": [
    "class person():\n",
    "    def __init__(self):\n",
    "        self.name = \"Jonathan\"\n",
    "obj = person() #Initialising the Function and Everything in it.\n",
    "print(obj.name) #obj <- self (both are Instances of the Class)"
   ]
  },
  {
   "cell_type": "code",
   "execution_count": 99,
   "metadata": {},
   "outputs": [
    {
     "name": "stdout",
     "output_type": "stream",
     "text": [
      "The Person Name is Jonathan\n"
     ]
    }
   ],
   "source": [
    "class person():\n",
    "    def __init__(self):\n",
    "        self.name = \"Jonathan\"\n",
    "    def printing(self):\n",
    "        print(\"The Person Name is\",self.name)\n",
    "obj = person() #Initialising the Function and Everything in it.\n",
    "obj.printing()"
   ]
  },
  {
   "cell_type": "code",
   "execution_count": 100,
   "metadata": {},
   "outputs": [
    {
     "name": "stdout",
     "output_type": "stream",
     "text": [
      "The Person Name is Jonathan\n"
     ]
    }
   ],
   "source": [
    "class person():\n",
    "    def __init__(self,name):\n",
    "        self.name = name\n",
    "    def printing(self):\n",
    "        print(\"The Person Name is\",self.name)\n",
    "obj = person(\"Jonathan\") #Initialising the Function and Everything in it.\n",
    "obj.printing()"
   ]
  },
  {
   "cell_type": "code",
   "execution_count": 101,
   "metadata": {},
   "outputs": [
    {
     "name": "stdout",
     "output_type": "stream",
     "text": [
      "The Child Name is = Jonathan\n",
      "The Father Name is = Chako\n"
     ]
    }
   ],
   "source": [
    "class father():\n",
    "    def __init__(self, name):\n",
    "        self.fname = name\n",
    "class child(father):\n",
    "    def __init__(self,name, father_name):\n",
    "        self.cname = name\n",
    "        super().__init__(father_name)\n",
    "    def printing(self):\n",
    "        print(\"The Child Name is =\",self.cname)\n",
    "        print(\"The Father Name is =\",self.fname)\n",
    "obj = child(\"Jonathan\",\"Chako\") #Initialising the Function and Everything in it.\n",
    "obj.printing()"
   ]
  },
  {
   "cell_type": "code",
   "execution_count": 102,
   "metadata": {},
   "outputs": [
    {
     "name": "stdout",
     "output_type": "stream",
     "text": [
      "The Child Name is = Jonathan\n",
      "The Father Name is = Chako\n",
      "The Grandparent Name is = MathewPattasseril\n"
     ]
    }
   ],
   "source": [
    "class grandparent():\n",
    "    def __init__(self, name):\n",
    "        self.gname = name\n",
    "class father(grandparent):\n",
    "    def __init__(self, name,parent_name):\n",
    "        self.fname = name\n",
    "        super().__init__(parent_name)\n",
    "class child(father):\n",
    "    def __init__(self,name, father_name,grandparent_name):\n",
    "        self.cname = name\n",
    "        super().__init__(father_name,grandparent_name)\n",
    "    def printing(self):\n",
    "        print(\"The Child Name is =\",self.cname)\n",
    "        print(\"The Father Name is =\",self.fname)\n",
    "        print(\"The Grandparent Name is =\",self.gname)\n",
    "obj = child(\"Jonathan\",\"Chako\",\"MathewPattasseril\") #Initialising the Function and Everything in it.\n",
    "obj.printing()"
   ]
  },
  {
   "cell_type": "code",
   "execution_count": 103,
   "metadata": {},
   "outputs": [
    {
     "name": "stdout",
     "output_type": "stream",
     "text": [
      "The Grandparent Name is = MathewPattasseril\n"
     ]
    }
   ],
   "source": [
    "class grandparent():\n",
    "    def __init__(self, name):\n",
    "        self.gname = name\n",
    "    def printz(self):\n",
    "        print(\"The Grandparent Name is =\",self.gname)\n",
    "class father(grandparent):\n",
    "    def __init__(self, name,parent_name):\n",
    "        self.fname = name\n",
    "        super().__init__(parent_name)\n",
    "class child(father):\n",
    "    def __init__(self,name, father_name,grandparent_name):\n",
    "        self.cname = name\n",
    "        super().__init__(father_name,grandparent_name)\n",
    "    def printing(self):\n",
    "        print(\"The Child Name is =\",self.cname)\n",
    "        print(\"The Father Name is =\",self.fname)\n",
    "        # print(\"The Grandparent Name is =\",self.gname)\n",
    "obj = child(\"Jonathan\",\"Chako\",\"MathewPattasseril\") #Initialising the Function and Everything in it.\n",
    "# obj.printing()\n",
    "obj.printz()"
   ]
  },
  {
   "cell_type": "code",
   "execution_count": 104,
   "metadata": {},
   "outputs": [
    {
     "name": "stdout",
     "output_type": "stream",
     "text": [
      "The Child Name is = Jonathan\n",
      "The Father Name is = Chako\n",
      "The Grandparent Name is = MathewPattasseril\n"
     ]
    }
   ],
   "source": [
    "class grandparent():\n",
    "    def __init__(self, name):\n",
    "        self.gname = name\n",
    "    def printz(self):\n",
    "        print(\"The Grandparent Name is =\",self.gname)\n",
    "class father(grandparent):\n",
    "    def __init__(self, name,parent_name):\n",
    "        self.fname = name\n",
    "        super().__init__(parent_name)\n",
    "class child(father):\n",
    "    def __init__(self,name, father_name,grandparent_name):\n",
    "        self.cname = name\n",
    "        super().__init__(father_name,grandparent_name)\n",
    "    def printing(self):\n",
    "        print(\"The Child Name is =\",self.cname)\n",
    "        print(\"The Father Name is =\",self.fname)\n",
    "        # print(\"The Grandparent Name is =\",self.gname)\n",
    "        grandparent.printz(self)\n",
    "obj = child(\"Jonathan\",\"Chako\",\"MathewPattasseril\") #Initialising the Function and Everything in it.\n",
    "obj.printing()\n",
    "# obj.printz()"
   ]
  },
  {
   "cell_type": "code",
   "execution_count": 105,
   "metadata": {},
   "outputs": [
    {
     "name": "stdout",
     "output_type": "stream",
     "text": [
      "The Child Name is = Jonathan\n",
      "The Father Name is = Chako\n",
      "The Mother Name is = Annie\n",
      "The Grandparent Name is = MathewPattasseril\n"
     ]
    }
   ],
   "source": [
    "class grandparent():\n",
    "    def __init__(self, name):\n",
    "        self.gname = name\n",
    "    def printz(self):\n",
    "        print(\"The Grandparent Name is =\",self.gname)\n",
    "class father(grandparent):\n",
    "    def __init__(self, name,parent_name):\n",
    "        self.fname = name\n",
    "        super().__init__(parent_name)\n",
    "class mother():\n",
    "    def __init__(self, name):\n",
    "        self.mname = name\n",
    "class child(father,mother):\n",
    "    def __init__(self,name,father_name,mother_name,grandparent_name):\n",
    "        self.cname = name\n",
    "        father.__init__(self,father_name,grandparent_name) # super().__init__(father_name,grandparent_name)\n",
    "        mother.__init__(self,mother_name)\n",
    "    def printing(self):\n",
    "        print(\"The Child Name is =\",self.cname)\n",
    "        print(\"The Father Name is =\",self.fname)\n",
    "        print(\"The Mother Name is =\",self.mname)\n",
    "        grandparent.printz(self) # print(\"The Grandparent Name is =\",self.gname)\n",
    "obj = child(\"Jonathan\",\"Chako\",\"Annie\",\"MathewPattasseril\") #Initialising the Function and Everything in it.\n",
    "obj.printing()\n",
    "# obj.printz()"
   ]
  },
  {
   "cell_type": "code",
   "execution_count": null,
   "metadata": {},
   "outputs": [],
   "source": []
  },
  {
   "cell_type": "markdown",
   "metadata": {},
   "source": []
  },
  {
   "cell_type": "code",
   "execution_count": 106,
   "metadata": {},
   "outputs": [
    {
     "name": "stdout",
     "output_type": "stream",
     "text": [
      "10\n",
      "else work\n",
      "last condition\n"
     ]
    }
   ],
   "source": [
    "try:\n",
    "    # a=10\n",
    "    print(a)\n",
    "except:\n",
    "    print(\"a is not defined\") #WORKS ONLY IF TRY DOESNT WORK\n",
    "else:\n",
    "    print(\"else work\") #WORKS ONLY IF TRY WORKS\n",
    "finally:\n",
    "    print(\"last condition\") #WORKS EVERYTIME"
   ]
  },
  {
   "cell_type": "markdown",
   "metadata": {},
   "source": []
  },
  {
   "cell_type": "code",
   "execution_count": 107,
   "metadata": {},
   "outputs": [],
   "source": [
    "import os"
   ]
  },
  {
   "cell_type": "code",
   "execution_count": 108,
   "metadata": {},
   "outputs": [],
   "source": [
    "if os.path.exists('file.txt'): #CHECKING IF FILE EXISTS\n",
    "    os.remove('file.txt') #DELETE FILE\n",
    "else:\n",
    "    pass"
   ]
  },
  {
   "cell_type": "code",
   "execution_count": 109,
   "metadata": {},
   "outputs": [],
   "source": [
    "if not(os.path.exists('file.txt')): #CHECKING IF FILE DOESNT EXISTS\n",
    "    f=open('file.txt','x') #CREATE FILE (IF NOT ESISTS)\n",
    "else:\n",
    "    pass"
   ]
  },
  {
   "cell_type": "code",
   "execution_count": 110,
   "metadata": {},
   "outputs": [
    {
     "data": {
      "text/plain": [
       "38"
      ]
     },
     "execution_count": 110,
     "metadata": {},
     "output_type": "execute_result"
    }
   ],
   "source": [
    "f=open('file.txt','w')\n",
    "f.write('My new file')\n",
    "f=open('file.txt','w')\n",
    "f.write('To check if my content get overwritten')"
   ]
  },
  {
   "cell_type": "code",
   "execution_count": 111,
   "metadata": {},
   "outputs": [
    {
     "data": {
      "text/plain": [
       "40"
      ]
     },
     "execution_count": 111,
     "metadata": {},
     "output_type": "execute_result"
    }
   ],
   "source": [
    "f=open('file.txt','a')\n",
    "f.write('\\ni have appended more texts into my file')"
   ]
  },
  {
   "cell_type": "code",
   "execution_count": 112,
   "metadata": {},
   "outputs": [
    {
     "name": "stdout",
     "output_type": "stream",
     "text": [
      "To check if my content get overwritten\n",
      "i have appended more texts into my file\n"
     ]
    }
   ],
   "source": [
    "f=open('file.txt','r')\n",
    "print(f.read())"
   ]
  },
  {
   "cell_type": "code",
   "execution_count": 113,
   "metadata": {},
   "outputs": [
    {
     "name": "stdout",
     "output_type": "stream",
     "text": [
      "['To check if my content get overwritten\\n', 'i have appended more texts into my file']\n"
     ]
    }
   ],
   "source": [
    "f=open('file.txt','r')\n",
    "print(f.readlines())"
   ]
  },
  {
   "cell_type": "code",
   "execution_count": 114,
   "metadata": {},
   "outputs": [
    {
     "name": "stdout",
     "output_type": "stream",
     "text": [
      "To check if my content get overwritten\n",
      "\n",
      "i have appended more texts into my file\n",
      "\n"
     ]
    }
   ],
   "source": [
    "f=open('file.txt','r')\n",
    "print(f.readline())\n",
    "print(f.readline())\n",
    "print(f.readline())"
   ]
  },
  {
   "cell_type": "code",
   "execution_count": 115,
   "metadata": {},
   "outputs": [
    {
     "name": "stdout",
     "output_type": "stream",
     "text": [
      "To check if my content get overwritten\n",
      "\n",
      "['i have appended more texts into my file']\n",
      "\n"
     ]
    }
   ],
   "source": [
    "f=open('file.txt','r')\n",
    "print(f.readline())\n",
    "print(f.readlines())\n",
    "print(f.read())"
   ]
  },
  {
   "cell_type": "code",
   "execution_count": 116,
   "metadata": {},
   "outputs": [
    {
     "name": "stdout",
     "output_type": "stream",
     "text": [
      "To check if my content get overwritten\n",
      "\n",
      "['i have appended more texts into my file']\n",
      "To check if my content get overwritten\n",
      "i have appended more texts into my file\n"
     ]
    }
   ],
   "source": [
    "f=open('file.txt','r')\n",
    "print(f.readline())\n",
    "print(f.readlines())\n",
    "f=open('file.txt','r')\n",
    "print(f.read())"
   ]
  },
  {
   "cell_type": "code",
   "execution_count": 117,
   "metadata": {},
   "outputs": [],
   "source": [
    "f.close()"
   ]
  },
  {
   "cell_type": "markdown",
   "metadata": {},
   "source": []
  },
  {
   "cell_type": "code",
   "execution_count": null,
   "metadata": {},
   "outputs": [],
   "source": []
  }
 ],
 "metadata": {
  "kernelspec": {
   "display_name": "Python 3",
   "language": "python",
   "name": "python3"
  },
  "language_info": {
   "codemirror_mode": {
    "name": "ipython",
    "version": 3
   },
   "file_extension": ".py",
   "mimetype": "text/x-python",
   "name": "python",
   "nbconvert_exporter": "python",
   "pygments_lexer": "ipython3",
   "version": "3.11.1"
  },
  "orig_nbformat": 4,
  "vscode": {
   "interpreter": {
    "hash": "7efa0102473cc365dc960628bc14c2fa509771872efd5c90b3fcbc26e1dc733a"
   }
  }
 },
 "nbformat": 4,
 "nbformat_minor": 2
}
