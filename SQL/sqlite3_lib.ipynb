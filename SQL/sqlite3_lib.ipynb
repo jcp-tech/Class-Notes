{
 "cells": [
  {
   "cell_type": "code",
   "execution_count": 1,
   "metadata": {},
   "outputs": [],
   "source": [
    "# pip install db-sqlite3\n",
    "import sqlite3"
   ]
  },
  {
   "cell_type": "code",
   "execution_count": 6,
   "metadata": {},
   "outputs": [
    {
     "data": {
      "text/plain": [
       "\"\\nfinally:\\n    if sqliteConnection:\\n        # Close the cursor\\n        cursor.close()\\n        # Close the connection\\n        db.close()\\n        # print('SQLite Connection closed')\\n\""
      ]
     },
     "execution_count": 6,
     "metadata": {},
     "output_type": "execute_result"
    }
   ],
   "source": [
    "try:\n",
    "    # Connect to DB with a ConnectionObject\n",
    "    db = sqlite3.connect('db.sqlite3') # db = sqlite3.connect('mydatabase.db') \n",
    "    # Create a CursorObject\n",
    "    cursor = db.cursor()\n",
    "    '''\n",
    "    print('DB Init')\n",
    "    # Write a query and execute it with cursor\n",
    "    query = 'select sqlite_version();'\n",
    "    cursor.execute(query)\n",
    "    # Fetch and output result\n",
    "    result = cursor.fetchall()\n",
    "    print('SQLite Version is {}'.format(result))\n",
    "    '''\n",
    "except sqlite3.Error as error:\n",
    "    # Handle errors\n",
    "    print('Error occured - ', error)\n",
    "# Close DB Connection irrespective of success\n",
    "# or failure\n",
    "'''\n",
    "finally:\n",
    "    if sqliteConnection:\n",
    "        # Close the cursor\n",
    "        cursor.close()\n",
    "        # Close the connection\n",
    "        db.close()\n",
    "        # print('SQLite Connection closed')\n",
    "'''  "
   ]
  },
  {
   "cell_type": "code",
   "execution_count": 4,
   "metadata": {},
   "outputs": [
    {
     "data": {
      "text/plain": [
       "<sqlite3.Cursor at 0x15fe20f6840>"
      ]
     },
     "execution_count": 4,
     "metadata": {},
     "output_type": "execute_result"
    }
   ],
   "source": [
    "# Creating table\n",
    "table = \"CREATE TABLE IF NOT EXISTS tablename(Email varchar(255), Age int, First_Name char(25) NOT NULL, Last_Name char(25));\"#ID INT PRIMARY KEY NOT NULL,\n",
    "cursor.execute(table)\n",
    "# print(\"Table is Ready\")"
   ]
  },
  {
   "cell_type": "code",
   "execution_count": 4,
   "metadata": {},
   "outputs": [
    {
     "name": "stdout",
     "output_type": "stream",
     "text": [
      "[('tablename',)]\n"
     ]
    }
   ],
   "source": [
    "sql_query = \"\"\"SELECT name FROM sqlite_master\n",
    "    WHERE type='table';\"\"\"\n",
    "# executing our sql query\n",
    "cursor.execute(sql_query)\n",
    "# printing all tables list\n",
    "print(cursor.fetchall())"
   ]
  },
  {
   "cell_type": "code",
   "execution_count": 5,
   "metadata": {},
   "outputs": [
    {
     "data": {
      "text/plain": [
       "<sqlite3.Cursor at 0x2693768cfc0>"
      ]
     },
     "execution_count": 5,
     "metadata": {},
     "output_type": "execute_result"
    }
   ],
   "source": [
    "# Queries to INSERT records.\n",
    "cursor.execute('''INSERT INTO tablename (Email,Age,First_Name,Last_Name) VALUES ('jcp99gamer@gmail.com', 21, 'Jaiden', 'John')''')\n",
    "cursor.execute('''INSERT INTO tablename (Email,Age,First_Name,Last_Name) VALUES ('jonathanchacko1805@gmail.com',20, 'Jonathan', 'Chacko')''')\n",
    "cursor.execute('''INSERT INTO tablename (Email,Age,First_Name,Last_Name) VALUES ('ipp2021043@sicsr.ac.in',19, 'Prisha', 'Chawla')''')"
   ]
  },
  {
   "cell_type": "code",
   "execution_count": 6,
   "metadata": {},
   "outputs": [
    {
     "name": "stdout",
     "output_type": "stream",
     "text": [
      "All the data\n",
      "('noxpablo101@gmail.com', 21, 'Jaiden', 'John', 'RawData')\n",
      "('prishachawla10@gmail.com', 19, 'Prisha', 'Chawla', 'RawData')\n",
      "('jcp99gamer@gmail.com', 21, 'Jaiden', 'John', None)\n",
      "('jonathanchacko1805@gmail.com', 20, 'Jonathan', 'Chacko', None)\n",
      "('ipp2021043@sicsr.ac.in', 19, 'Prisha', 'Chawla', None)\n"
     ]
    },
    {
     "data": {
      "text/plain": [
       "'\\noutput = cursor.fetchone()\\nprint(output)\\n'"
      ]
     },
     "execution_count": 6,
     "metadata": {},
     "output_type": "execute_result"
    }
   ],
   "source": [
    "# to select all column we will use\n",
    "statement = '''SELECT * FROM tablename''' # LIMIT 2\n",
    "cursor.execute(statement)\n",
    "print(\"All the data\")\n",
    "output = cursor.fetchall()\n",
    "# output = cursor.fetchmany(2)\n",
    "for row in output:\n",
    "  print(row)\n",
    "'''\n",
    "output = cursor.fetchone()\n",
    "print(output)\n",
    "'''"
   ]
  },
  {
   "cell_type": "code",
   "execution_count": 7,
   "metadata": {},
   "outputs": [
    {
     "name": "stdout",
     "output_type": "stream",
     "text": [
      "[('ipp2021043@sicsr.ac.in', 19, 'Prisha', 'Chawla', None)]\n"
     ]
    }
   ],
   "source": [
    "# WHERE CLAUSE TO RETRIEVE DATA\n",
    "cursor.execute(\"SELECT * FROM tablename WHERE Email = 'ipp2021043@sicsr.ac.in'\")\n",
    "# printing the cursor data\n",
    "print(cursor.fetchall())"
   ]
  },
  {
   "cell_type": "code",
   "execution_count": 8,
   "metadata": {},
   "outputs": [
    {
     "name": "stdout",
     "output_type": "stream",
     "text": [
      "[('noxpablo101@gmail.com', 21, 'Jaiden', 'John', 'RawData'), ('jcp99gamer@gmail.com', 21, 'Jaiden', 'John', None), ('jonathanchacko1805@gmail.com', 20, 'Jonathan', 'Chacko', None)]\n"
     ]
    }
   ],
   "source": [
    "# WHERE CLAUSE TO RETRIEVE DATA\n",
    "cursor.execute(\"SELECT * from tablename WHERE First_name Like'J%'\")\n",
    "# printing the cursor data\n",
    "print(cursor.fetchall())"
   ]
  },
  {
   "cell_type": "code",
   "execution_count": 9,
   "metadata": {},
   "outputs": [
    {
     "name": "stdout",
     "output_type": "stream",
     "text": [
      "('noxpablo101@gmail.com', 21, 'Jaiden', 'John', 'RawData')\n",
      "('prishachawla10@gmail.com', 19, 'Prisha', 'Chawla', 'RawData')\n",
      "('noxpablo101@gmail.com', 21, 'Jaiden', 'John', None)\n",
      "('prishachawla10@gmail.com', 19, 'Prisha', 'Chawla', None)\n"
     ]
    }
   ],
   "source": [
    "# WHERE CLAUSE\n",
    "  # TO UPDATE DATA  \n",
    "cursor.execute(\"UPDATE tablename SET Email ='prishachawla10@gmail.com' WHERE Age = 19\")\n",
    "cursor.execute(\"UPDATE tablename SET Email ='noxpablo101@gmail.com' WHERE Last_Name = 'John'\")\n",
    "  # TO DELETE DATA\n",
    "cursor.execute(\"DELETE from tablename WHERE First_Name = 'Jonathan'\")\n",
    "# printing the cursor data\n",
    "cursor.execute(\"SELECT * from tablename\")\n",
    "# print(cursor.fetchall())\n",
    "for data in cursor.fetchall():\n",
    "  print(data)"
   ]
  },
  {
   "cell_type": "code",
   "execution_count": 10,
   "metadata": {},
   "outputs": [
    {
     "name": "stdout",
     "output_type": "stream",
     "text": [
      "('Jaiden', 'John')\n",
      "('Jaiden', 'John')\n",
      "('Prisha', 'Chawla')\n",
      "('Prisha', 'Chawla')\n"
     ]
    }
   ],
   "source": [
    "cursor.execute(\"SELECT First_Name,Last_Name from tablename ORDER BY Age DESC\")\n",
    "# display data row by row\n",
    "for i in cursor:\n",
    "    print(i)"
   ]
  },
  {
   "cell_type": "code",
   "execution_count": 11,
   "metadata": {},
   "outputs": [
    {
     "ename": "OperationalError",
     "evalue": "duplicate column name: NewColumn",
     "output_type": "error",
     "traceback": [
      "\u001b[1;31m---------------------------------------------------------------------------\u001b[0m",
      "\u001b[1;31mOperationalError\u001b[0m                          Traceback (most recent call last)",
      "Cell \u001b[1;32mIn[11], line 3\u001b[0m\n\u001b[0;32m      1\u001b[0m \u001b[39m# Add a new column to geek table\u001b[39;00m\n\u001b[0;32m      2\u001b[0m new_column \u001b[39m=\u001b[39m \u001b[39m\"\u001b[39m\u001b[39mALTER TABLE tablename ADD COLUMN NewColumn CHAR(25)\u001b[39m\u001b[39m\"\u001b[39m\n\u001b[1;32m----> 3\u001b[0m cursor\u001b[39m.\u001b[39;49mexecute(new_column)\n\u001b[0;32m      5\u001b[0m \u001b[39m# Display table\u001b[39;00m\n\u001b[0;32m      6\u001b[0m data \u001b[39m=\u001b[39m cursor\u001b[39m.\u001b[39mexecute(\u001b[39m\"\u001b[39m\u001b[39mSELECT * FROM tablename\u001b[39m\u001b[39m\"\u001b[39m)\n",
      "\u001b[1;31mOperationalError\u001b[0m: duplicate column name: NewColumn"
     ]
    }
   ],
   "source": [
    "# Add a new column to geek table\n",
    "new_column = \"ALTER TABLE tablename ADD COLUMN NewColumn CHAR(25)\"\n",
    "cursor.execute(new_column)\n",
    "\n",
    "# Display table\n",
    "data = cursor.execute(\"SELECT * FROM tablename\")\n",
    "print('Table:')\n",
    "for row in data:\n",
    "    print(row)"
   ]
  },
  {
   "cell_type": "code",
   "execution_count": null,
   "metadata": {},
   "outputs": [
    {
     "name": "stdout",
     "output_type": "stream",
     "text": [
      "Table:\n",
      "('noxpablo101@gmail.com', 21, 'Jaiden', 'John', 'RawData')\n",
      "('prishachawla10@gmail.com', 19, 'Prisha', 'Chawla', 'RawData')\n"
     ]
    }
   ],
   "source": [
    "# query to update all data in  ship_address\n",
    "cursor.execute(\"UPDATE tablename set NewColumn='RawData'\")\n",
    "\n",
    "# Display table\n",
    "data = cursor.execute(\"SELECT * FROM tablename\")\n",
    "print('Table:')\n",
    "for row in data:\n",
    "    print(row)"
   ]
  },
  {
   "cell_type": "code",
   "execution_count": null,
   "metadata": {},
   "outputs": [
    {
     "data": {
      "text/plain": [
       "'\\nrenameTable = \"ALTER TABLE tablename RENAME TO RenamedTable\"\\ncursor.execute(renameTable)\\n\\ndata = cursor.execute(\"SELECT * FROM RenamedTable\")\\nsql_query = \"\"\"SELECT name FROM sqlite_master\\n    WHERE type=\\'table\\';\"\"\"\\ncursor.execute(sql_query)\\nprint(\"Current Existing Tables are = \")\\nprint(cursor.fetchall())\\nprint(\\'RenamedTable Data:\\')\\nfor row in data:\\n    print(row)\\n'"
      ]
     },
     "execution_count": 31,
     "metadata": {},
     "output_type": "execute_result"
    }
   ],
   "source": [
    "'''\n",
    "renameTable = \"ALTER TABLE tablename RENAME TO RenamedTable\"\n",
    "cursor.execute(renameTable)\n",
    "\n",
    "data = cursor.execute(\"SELECT * FROM RenamedTable\")\n",
    "sql_query = \"\"\"SELECT name FROM sqlite_master\n",
    "    WHERE type='table';\"\"\"\n",
    "cursor.execute(sql_query)\n",
    "print(\"Current Existing Tables are = \")\n",
    "print(cursor.fetchall())\n",
    "print('RenamedTable Data:')\n",
    "for row in data:\n",
    "    print(row)\n",
    "'''"
   ]
  },
  {
   "cell_type": "code",
   "execution_count": null,
   "metadata": {},
   "outputs": [
    {
     "data": {
      "text/plain": [
       "'\\n# Joins\\ncursor.executescript(\\'\\'\\'\\nCREATE TABLE Advisor(\\nAdvisorID INTEGER NOT NULL,\\nAdvisorName TEXT NOT NULL,\\nPRIMARY KEY(AdvisorID)\\n);\\n  \\nCREATE TABLE Student(\\nStudentID NUMERIC NOT NULL,\\nStudentName NUMERIC NOT NULL,\\nAdvisorID INTEGER,\\nFOREIGN KEY(AdvisorID) REFERENCES Advisor(AdvisorID),\\nPRIMARY KEY(StudentID)\\n);\\n  \\nINSERT INTO Advisor(AdvisorID, AdvisorName) VALUES\\n(1,\"John Paul\"), \\n(2,\"Anthony Roy\"), \\n(3,\"Raj Shetty\"),\\n(4,\"Sam Reeds\"),\\n(5,\"Arthur Clintwood\");\\n  \\nINSERT INTO Student(StudentID, StudentName, AdvisorID) VALUES\\n(501,\"Geek1\",1),\\n(502,\"Geek2\",1),\\n(503,\"Geek3\",3),\\n(504,\"Geek4\",2),\\n(505,\"Geek5\",4),\\n(506,\"Geek6\",2),\\n(507,\"Geek7\",2),\\n(508,\"Geek8\",3),\\n(509,\"Geek9\",NULL),\\n(510,\"Geek10\",1);\\n  \\n\\'\\'\\')\\n# https://www.geeksforgeeks.org/python-sqlite-join-clause/\\n'"
      ]
     },
     "execution_count": 32,
     "metadata": {},
     "output_type": "execute_result"
    }
   ],
   "source": [
    "\"\"\"\n",
    "# Joins\n",
    "cursor.executescript('''\n",
    "CREATE TABLE Advisor(\n",
    "AdvisorID INTEGER NOT NULL,\n",
    "AdvisorName TEXT NOT NULL,\n",
    "PRIMARY KEY(AdvisorID)\n",
    ");\n",
    "  \n",
    "CREATE TABLE Student(\n",
    "StudentID NUMERIC NOT NULL,\n",
    "StudentName NUMERIC NOT NULL,\n",
    "AdvisorID INTEGER,\n",
    "FOREIGN KEY(AdvisorID) REFERENCES Advisor(AdvisorID),\n",
    "PRIMARY KEY(StudentID)\n",
    ");\n",
    "  \n",
    "INSERT INTO Advisor(AdvisorID, AdvisorName) VALUES\n",
    "(1,\"John Paul\"), \n",
    "(2,\"Anthony Roy\"), \n",
    "(3,\"Raj Shetty\"),\n",
    "(4,\"Sam Reeds\"),\n",
    "(5,\"Arthur Clintwood\");\n",
    "  \n",
    "INSERT INTO Student(StudentID, StudentName, AdvisorID) VALUES\n",
    "(501,\"Geek1\",1),\n",
    "(502,\"Geek2\",1),\n",
    "(503,\"Geek3\",3),\n",
    "(504,\"Geek4\",2),\n",
    "(505,\"Geek5\",4),\n",
    "(506,\"Geek6\",2),\n",
    "(507,\"Geek7\",2),\n",
    "(508,\"Geek8\",3),\n",
    "(509,\"Geek9\",NULL),\n",
    "(510,\"Geek10\",1);\n",
    "  \n",
    "''')\n",
    "# https://www.geeksforgeeks.org/python-sqlite-join-clause/\n",
    "\"\"\""
   ]
  },
  {
   "cell_type": "code",
   "execution_count": null,
   "metadata": {},
   "outputs": [],
   "source": [
    "cursor.execute(\"DELETE FROM tablename\")\n",
    "print()\n",
    "print(\"After deleting all rows\")\n",
    "cursor.execute(\"SELECT * FROM tablename\")\n",
    "print(cursor.fetchall())"
   ]
  },
  {
   "cell_type": "code",
   "execution_count": null,
   "metadata": {},
   "outputs": [],
   "source": [
    "cursor.execute(\"DROP TABLE IF EXISTS tablename\")"
   ]
  },
  {
   "cell_type": "code",
   "execution_count": 4,
   "metadata": {},
   "outputs": [],
   "source": [
    "db.commit()"
   ]
  },
  {
   "cell_type": "code",
   "execution_count": 5,
   "metadata": {},
   "outputs": [],
   "source": [
    "cursor.close()\n",
    "db.close()"
   ]
  }
 ],
 "metadata": {
  "kernelspec": {
   "display_name": "Python 3",
   "language": "python",
   "name": "python3"
  },
  "language_info": {
   "codemirror_mode": {
    "name": "ipython",
    "version": 3
   },
   "file_extension": ".py",
   "mimetype": "text/x-python",
   "name": "python",
   "nbconvert_exporter": "python",
   "pygments_lexer": "ipython3",
   "version": "3.11.1"
  },
  "orig_nbformat": 4,
  "vscode": {
   "interpreter": {
    "hash": "7efa0102473cc365dc960628bc14c2fa509771872efd5c90b3fcbc26e1dc733a"
   }
  }
 },
 "nbformat": 4,
 "nbformat_minor": 2
}
