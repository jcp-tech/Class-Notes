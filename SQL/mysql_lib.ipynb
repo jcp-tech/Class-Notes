{
 "cells": [
  {
   "cell_type": "code",
   "execution_count": null,
   "metadata": {},
   "outputs": [],
   "source": [
    "# pip install mysql-connector-python\n",
    "import mysql.connector\n"
   ]
  },
  {
   "cell_type": "code",
   "execution_count": null,
   "metadata": {},
   "outputs": [],
   "source": [
    "#Connect to the Database\n",
    "testConnect = mysql.connector.connect(\n",
    "  host=\"127.0.0.1\",\n",
    "  user=\"root\",\n",
    "  password=\"\"\n",
    ")\n",
    "\n",
    "# print(mydb)"
   ]
  },
  {
   "cell_type": "code",
   "execution_count": null,
   "metadata": {},
   "outputs": [],
   "source": [
    "#Create the CURSOR\n",
    "testcursor = testConnect.cursor()"
   ]
  },
  {
   "cell_type": "code",
   "execution_count": 14,
   "metadata": {},
   "outputs": [],
   "source": [
    "#Create a Database\n",
    "testcursor.execute(\"CREATE DATABASE IF NOT EXISTS mydatabase\")"
   ]
  },
  {
   "cell_type": "code",
   "execution_count": null,
   "metadata": {},
   "outputs": [],
   "source": [
    "#Show Databases List\n",
    "testcursor.execute(\"SHOW DATABASES\")\n",
    "for x in testcursor:\n",
    "  print(x)\n",
    "# mydb.commit()"
   ]
  },
  {
   "cell_type": "code",
   "execution_count": null,
   "metadata": {},
   "outputs": [],
   "source": [
    "# DATABASEselected = input(\"Enter the database name: \")\n",
    "mydb = mysql.connector.connect(\n",
    "  host=\"127.0.0.1\",\n",
    "  user=\"root\",\n",
    "  password=\"\",\n",
    "  database=\"mydatabase\" #Database mydatabase Selected\n",
    ")"
   ]
  },
  {
   "cell_type": "code",
   "execution_count": null,
   "metadata": {},
   "outputs": [],
   "source": [
    "mycursor = mydb.cursor() #Reloading the CURSOR"
   ]
  },
  {
   "cell_type": "code",
   "execution_count": null,
   "metadata": {},
   "outputs": [],
   "source": [
    "# mycursor.execute(\"CREATE TABLE customers (name VARCHAR(255), address VARCHAR(255))\") #Create Table\n",
    "mycursor.execute(r\"\"\"CREATE TABLE IF NOT EXISTS customers (\"\"\"+'id INT AUTO_INCREMENT PRIMARY KEY'+\"\"\", name VARCHAR(255), address VARCHAR(255))\"\"\")\n",
    "# mycursor.execute(\"ALTER TABLE customers ADD COLUMN id INT AUTO_INCREMENT PRIMARY KEY\") #Alter Table Data\n",
    "mydb.commit()"
   ]
  },
  {
   "cell_type": "code",
   "execution_count": null,
   "metadata": {},
   "outputs": [],
   "source": [
    "mycursor.execute(\"SHOW TABLES\")\n",
    "\n",
    "for y in mycursor:\n",
    "  print(y)\n",
    "# mydb.commit()"
   ]
  },
  {
   "cell_type": "code",
   "execution_count": null,
   "metadata": {},
   "outputs": [],
   "source": [
    "sql = \"INSERT INTO customers (name, address) VALUES (%s, %s)\"\n",
    "val = (\"Jonathan\", \"Pune\")\n",
    "mycursor.execute(sql, val)\n",
    "mydb.commit()\n",
    "print(\"1 record inserted, ID:\", mycursor.lastrowid)"
   ]
  },
  {
   "cell_type": "code",
   "execution_count": null,
   "metadata": {},
   "outputs": [],
   "source": [
    "sql = \"INSERT INTO customers (name, address) VALUES (%s, %s)\"\n",
    "val = [\n",
    "  ('Peter', 'Lowstreet 4'),\n",
    "  ('Amy', 'Apple st 652'),\n",
    "  ('Hannah', 'Mountain 21'),\n",
    "  ('Michael', 'Valley 345'),\n",
    "  ('Sandy', 'Ocean blvd 2'),\n",
    "  ('Betty', 'Green Grass 1'),\n",
    "  ('Richard', 'Sky st 331'),\n",
    "  ('Susan', 'One way 98'),\n",
    "  ('Vicky', 'Yellow Garden 2'),\n",
    "  ('Ben', 'Park Lane 38'),\n",
    "  ('William', 'Central st 954'),\n",
    "  ('Chuck', 'Main Road 989'),\n",
    "  ('Viola', 'Sideway 1633')\n",
    "]\n",
    "mycursor.executemany(sql, val)\n",
    "mydb.commit()\n",
    "print(mycursor.rowcount, \"was inserted.\")"
   ]
  },
  {
   "cell_type": "code",
   "execution_count": null,
   "metadata": {},
   "outputs": [],
   "source": [
    "mycursor = mydb.cursor()\n",
    "\n",
    "mycursor.execute(\"SELECT * FROM customers\")\n",
    "\n",
    "myresult = mycursor.fetchall()\n",
    "# myresult = mycursor.fetchone()\n",
    "for x in myresult:\n",
    "  print(x)\n",
    "# mydb.commit()"
   ]
  },
  {
   "cell_type": "code",
   "execution_count": null,
   "metadata": {},
   "outputs": [],
   "source": [
    "sql = \"SELECT * FROM customers WHERE address = %s\"\n",
    "adr = (\"Yellow Garden 2\", )\n",
    "mycursor.execute(sql, adr)\n",
    "# sql = \"SELECT * FROM customers WHERE address ='Park Lane 38'\"\n",
    "# mycursor.execute(sql)\n",
    "'''\n",
    "# myresult = mycursor.fetchall()\n",
    "for x in myresult:\n",
    "  print(x)\n",
    "'''\n",
    "myresult = mycursor.fetchone()\n",
    "print(myresult)\n",
    "mydb.commit()"
   ]
  },
  {
   "cell_type": "code",
   "execution_count": null,
   "metadata": {},
   "outputs": [],
   "source": [
    "sql = \"SELECT * FROM customers WHERE address LIKE '%way%'\"\n",
    "\n",
    "mycursor.execute(sql)\n",
    "\n",
    "myresult = mycursor.fetchall()\n",
    "\n",
    "for x in myresult:\n",
    "  print(x)\n",
    "mydb.commit()"
   ]
  },
  {
   "cell_type": "code",
   "execution_count": null,
   "metadata": {},
   "outputs": [],
   "source": [
    "sql = \"SELECT * FROM customers ORDER BY name\"\n",
    "\n",
    "mycursor.execute(sql)\n",
    "\n",
    "myresult = mycursor.fetchall()\n",
    "\n",
    "for x in myresult:\n",
    "  print(x)\n",
    "mydb.commit()"
   ]
  },
  {
   "cell_type": "code",
   "execution_count": null,
   "metadata": {},
   "outputs": [],
   "source": [
    "sql = \"SELECT * FROM customers ORDER BY name DESC\"\n",
    "\n",
    "mycursor.execute(sql)\n",
    "\n",
    "myresult = mycursor.fetchall()\n",
    "\n",
    "for x in myresult:\n",
    "  print(x)\n",
    "mydb.commit()"
   ]
  },
  {
   "cell_type": "code",
   "execution_count": null,
   "metadata": {},
   "outputs": [],
   "source": [
    "sql = \"DELETE FROM customers WHERE address = %s\"\n",
    "adr = (\"Yellow Garden 2\", )\n",
    "mycursor.execute(sql, adr)\n",
    "'''\n",
    "sql = \"DELETE FROM customers WHERE address = 'Mountain 21'\"\n",
    "mycursor.execute(sql)\n",
    "'''\n",
    "mydb.commit()\n",
    "print(mycursor.rowcount, \"record(s) deleted\")"
   ]
  },
  {
   "cell_type": "code",
   "execution_count": null,
   "metadata": {},
   "outputs": [],
   "source": [
    "sql = \"UPDATE customers SET address = %s WHERE address = %s\"\n",
    "val = (\"Valley 345\", \"Canyon 123\")\n",
    "mycursor.execute(sql, val)\n",
    "'''\n",
    "sql = \"UPDATE customers SET address = 'Canyon 123' WHERE address = 'Valley 345'\"\n",
    "mycursor.execute(sql)\n",
    "'''\n",
    "mydb.commit()\n",
    "print(mycursor.rowcount, \"record(s) affected\")"
   ]
  },
  {
   "cell_type": "code",
   "execution_count": null,
   "metadata": {},
   "outputs": [],
   "source": [
    "mycursor = mydb.cursor()\n",
    "mycursor.execute(\"SELECT * FROM customers LIMIT 15\") #Limit to the First 15 Values\n",
    "myresult = mycursor.fetchall()\n",
    "for x in myresult:\n",
    "  print(x)\n",
    "# mydb.commit()"
   ]
  },
  {
   "cell_type": "code",
   "execution_count": null,
   "metadata": {},
   "outputs": [],
   "source": [
    "mycursor.execute(\"SELECT * FROM customers LIMIT 13 OFFSET 2\") #After the Second Row Limit to the Next 13 Rows\n",
    "myresult = mycursor.fetchall()\n",
    "for x in myresult:\n",
    "  print(x)\n",
    "# mydb.commit()"
   ]
  },
  {
   "cell_type": "code",
   "execution_count": null,
   "metadata": {},
   "outputs": [],
   "source": [
    "'''\n",
    "#Prerequisites\n",
    "    # users\n",
    "        # { id: 1, name: 'John', fav: 154},\n",
    "        # { id: 2, name: 'Peter', fav: 154},\n",
    "        # { id: 3, name: 'Amy', fav: 155},\n",
    "        # { id: 4, name: 'Hannah', fav:},\n",
    "        # { id: 5, name: 'Michael', fav:}\n",
    "    # products\n",
    "        # { id: 154, name: 'Chocolate Heaven' },\n",
    "        # { id: 155, name: 'Tasty Lemons' },\n",
    "        # { id: 156, name: 'Vanilla Dreams' }\n",
    "#JOIN\n",
    "sql = \"SELECT \\\n",
    "  users.name AS user, \\\n",
    "  products.name AS favorite \\\n",
    "  FROM users \\\n",
    "  INNER JOIN products ON users.fav = products.id\"\n",
    "#LEFT-JOIN\n",
    "sql = \"SELECT \\\n",
    "  users.name AS user, \\\n",
    "  products.name AS favorite \\\n",
    "  FROM users \\\n",
    "  LEFT JOIN products ON users.fav = products.id\"\n",
    "#RIGHT-JOIN\n",
    "sql = \"SELECT \\\n",
    "  users.name AS user, \\\n",
    "  products.name AS favorite \\\n",
    "  FROM users \\\n",
    "  RIGHT JOIN products ON users.fav = products.id\"\n",
    "mycursor.execute(sql)\n",
    "myresult = mycursor.fetchall()\n",
    "for x in myresult:\n",
    "  print(x)\n",
    "# mydb.commit()\n",
    "'''"
   ]
  },
  {
   "cell_type": "code",
   "execution_count": null,
   "metadata": {},
   "outputs": [],
   "source": [
    "'''\n",
    "mydb = mysql.connector.connect(\n",
    "  host=\"127.0.0.1\",\n",
    "  user=\"root\",\n",
    "  password=\"\",\n",
    "  database=\"mydatabase\" #Database mydatabase Selected\n",
    ")\n",
    "mycursor = mydb.cursor() #Reloading the CURSOR\n",
    "'''\n",
    "sql = \"DROP TABLE IF EXISTS customers\"\n",
    "# sql = \"DROP TABLE customers\"\n",
    "mycursor.execute(sql)\n",
    "mydb.commit()"
   ]
  }
 ],
 "metadata": {
  "kernelspec": {
   "display_name": "Python 3",
   "language": "python",
   "name": "python3"
  },
  "language_info": {
   "codemirror_mode": {
    "name": "ipython",
    "version": 3
   },
   "file_extension": ".py",
   "mimetype": "text/x-python",
   "name": "python",
   "nbconvert_exporter": "python",
   "pygments_lexer": "ipython3",
   "version": "3.11.1"
  },
  "orig_nbformat": 4,
  "vscode": {
   "interpreter": {
    "hash": "7efa0102473cc365dc960628bc14c2fa509771872efd5c90b3fcbc26e1dc733a"
   }
  }
 },
 "nbformat": 4,
 "nbformat_minor": 2
}
