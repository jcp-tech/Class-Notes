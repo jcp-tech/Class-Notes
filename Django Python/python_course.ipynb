{
 "cells": [
  {
   "cell_type": "markdown",
   "metadata": {},
   "source": []
  },
  {
   "cell_type": "code",
   "execution_count": 2,
   "metadata": {},
   "outputs": [
    {
     "data": {
      "text/plain": [
       "'\\nimport tkinter as tk\\n'"
      ]
     },
     "execution_count": 2,
     "metadata": {},
     "output_type": "execute_result"
    }
   ],
   "source": [
    "\"\"\"\n",
    "import tkinter as tk\n",
    "\"\"\""
   ]
  },
  {
   "cell_type": "code",
   "execution_count": 3,
   "metadata": {},
   "outputs": [
    {
     "data": {
      "text/plain": [
       "'\\n# Create a window object\\nwindow = tk.Tk()\\n\\'\\'\\'\\n# create an empty frame\\nframe = tk.Frame(window, width=400, height=400)\\nframe.pack()\\n\\'\\'\\'\\n# window.geometry(\"400x400\")\\nwindow.title(\"My Python GUI for Cloning Words.\")\\nwindow.mainloop()\\n'"
      ]
     },
     "execution_count": 3,
     "metadata": {},
     "output_type": "execute_result"
    }
   ],
   "source": [
    "\"\"\"\n",
    "# Create a window object\n",
    "window = tk.Tk()\n",
    "'''\n",
    "# create an empty frame\n",
    "frame = tk.Frame(window, width=400, height=400)\n",
    "frame.pack()\n",
    "'''\n",
    "# window.geometry(\"400x400\")\n",
    "window.title(\"My Python GUI for Cloning Words.\")\n",
    "window.mainloop()\n",
    "\"\"\""
   ]
  },
  {
   "cell_type": "code",
   "execution_count": 4,
   "metadata": {},
   "outputs": [
    {
     "data": {
      "text/plain": [
       "'\\n# Create a window object\\nwindow = tk.Tk()\\n\\n\\'\\'\\'\\n# create an empty frame\\nframe = tk.Frame(window, width=400, height=400)\\nframe.pack()\\n\\'\\'\\'\\n\\n# create a Label\\nlabel = tk.Label(window, text=\"Clone Your Word = \")\\nlabel.pack()\\n\\n# window.geometry(\"400x400\")\\nwindow.title(\"My Python GUI for Cloning Words.\")\\nwindow.mainloop()\\n'"
      ]
     },
     "execution_count": 4,
     "metadata": {},
     "output_type": "execute_result"
    }
   ],
   "source": [
    "\"\"\"\n",
    "# Create a window object\n",
    "window = tk.Tk()\n",
    "\n",
    "'''\n",
    "# create an empty frame\n",
    "frame = tk.Frame(window, width=400, height=400)\n",
    "frame.pack()\n",
    "'''\n",
    "\n",
    "# create a Label\n",
    "label = tk.Label(window, text=\"Clone Your Word = \")\n",
    "label.pack()\n",
    "\n",
    "# window.geometry(\"400x400\")\n",
    "window.title(\"My Python GUI for Cloning Words.\")\n",
    "window.mainloop()\n",
    "\"\"\""
   ]
  },
  {
   "cell_type": "code",
   "execution_count": 5,
   "metadata": {},
   "outputs": [
    {
     "data": {
      "text/plain": [
       "'\\n# Create a window object\\nwindow = tk.Tk()\\n\\n\\'\\'\\'\\n# create an empty frame\\nframe = tk.Frame(window, width=400, height=400)\\nframe.pack()\\n\\'\\'\\'\\n\\n# create a Label\\nlabel = tk.Label(window, text=\"Clone Your Word = \")\\nlabel.pack()\\n\\n# create an input box\\ninput_box = tk.Entry(window)\\ninput_box.pack()\\n\\n# window.geometry(\"400x400\")\\nwindow.title(\"My Python GUI for Cloning Words.\")\\nwindow.mainloop()\\n'"
      ]
     },
     "execution_count": 5,
     "metadata": {},
     "output_type": "execute_result"
    }
   ],
   "source": [
    "\"\"\"\n",
    "# Create a window object\n",
    "window = tk.Tk()\n",
    "\n",
    "'''\n",
    "# create an empty frame\n",
    "frame = tk.Frame(window, width=400, height=400)\n",
    "frame.pack()\n",
    "'''\n",
    "\n",
    "# create a Label\n",
    "label = tk.Label(window, text=\"Clone Your Word = \")\n",
    "label.pack()\n",
    "\n",
    "# create an input box\n",
    "input_box = tk.Entry(window)\n",
    "input_box.pack()\n",
    "\n",
    "# window.geometry(\"400x400\")\n",
    "window.title(\"My Python GUI for Cloning Words.\")\n",
    "window.mainloop()\n",
    "\"\"\""
   ]
  },
  {
   "cell_type": "code",
   "execution_count": 6,
   "metadata": {},
   "outputs": [
    {
     "data": {
      "text/plain": [
       "'\\n# Create a window object\\nwindow = tk.Tk()\\n\\n\\'\\'\\'\\n# create an empty frame\\nframe = tk.Frame(window, width=400, height=400)\\nframe.pack()\\n\\'\\'\\'\\n\\n# create a Label\\nlabel = tk.Label(window, text=\"Clone Your Word = \")\\nlabel.pack()\\n\\n# create an input box\\ninput_box = tk.Entry(window)\\ninput_box.pack()\\n\\n# create text boxes\\ntext = tk.Text(window, height=1, width=10, state=\"disabled\")\\ntext.pack()\\n\\n# window.geometry(\"400x400\")\\nwindow.title(\"My Python GUI for Cloning Words.\")\\nwindow.mainloop()\\n'"
      ]
     },
     "execution_count": 6,
     "metadata": {},
     "output_type": "execute_result"
    }
   ],
   "source": [
    "\"\"\"\n",
    "# Create a window object\n",
    "window = tk.Tk()\n",
    "\n",
    "'''\n",
    "# create an empty frame\n",
    "frame = tk.Frame(window, width=400, height=400)\n",
    "frame.pack()\n",
    "'''\n",
    "\n",
    "# create a Label\n",
    "label = tk.Label(window, text=\"Clone Your Word = \")\n",
    "label.pack()\n",
    "\n",
    "# create an input box\n",
    "input_box = tk.Entry(window)\n",
    "input_box.pack()\n",
    "\n",
    "# create text boxes\n",
    "text = tk.Text(window, height=1, width=10, state=\"disabled\")\n",
    "text.pack()\n",
    "\n",
    "# window.geometry(\"400x400\")\n",
    "window.title(\"My Python GUI for Cloning Words.\")\n",
    "window.mainloop()\n",
    "\"\"\""
   ]
  },
  {
   "cell_type": "code",
   "execution_count": 7,
   "metadata": {},
   "outputs": [
    {
     "data": {
      "text/plain": [
       "'\\n# Create a window object\\nwindow = tk.Tk()\\n\\n\\'\\'\\'\\n# create an empty frame\\nframe = tk.Frame(window, width=400, height=400)\\nframe.pack()\\n\\'\\'\\'\\n\\n# create a Label\\nlabel = tk.Label(window, text=\"Clone Your Word = \")\\nlabel.pack()\\n\\n# create an input box\\ninput_box = tk.Entry(window)\\ninput_box.pack()\\n\\n# create text boxes\\ntext = tk.Text(window, height=1, width=10, state=\"disabled\")\\ntext.pack()\\n\\n# create a button\\nbutton = tk.Button(window, text=\"Click me!\")\\nbutton.pack()\\n\\n# window.geometry(\"400x400\")\\nwindow.title(\"My Python GUI for Cloning Words.\")\\nwindow.mainloop()\\n'"
      ]
     },
     "execution_count": 7,
     "metadata": {},
     "output_type": "execute_result"
    }
   ],
   "source": [
    "\"\"\"\n",
    "# Create a window object\n",
    "window = tk.Tk()\n",
    "\n",
    "'''\n",
    "# create an empty frame\n",
    "frame = tk.Frame(window, width=400, height=400)\n",
    "frame.pack()\n",
    "'''\n",
    "\n",
    "# create a Label\n",
    "label = tk.Label(window, text=\"Clone Your Word = \")\n",
    "label.pack()\n",
    "\n",
    "# create an input box\n",
    "input_box = tk.Entry(window)\n",
    "input_box.pack()\n",
    "\n",
    "# create text boxes\n",
    "text = tk.Text(window, height=1, width=10, state=\"disabled\")\n",
    "text.pack()\n",
    "\n",
    "# create a button\n",
    "button = tk.Button(window, text=\"Click me!\")\n",
    "button.pack()\n",
    "\n",
    "# window.geometry(\"400x400\")\n",
    "window.title(\"My Python GUI for Cloning Words.\")\n",
    "window.mainloop()\n",
    "\"\"\""
   ]
  },
  {
   "cell_type": "code",
   "execution_count": 1,
   "metadata": {},
   "outputs": [
    {
     "data": {
      "text/plain": [
       "'window.mainloop()'"
      ]
     },
     "execution_count": 1,
     "metadata": {},
     "output_type": "execute_result"
    }
   ],
   "source": [
    "import tkinter as tk\n",
    "\n",
    "# Create a window object\n",
    "window = tk.Tk()\n",
    "\n",
    "'''\n",
    "# create an empty frame\n",
    "frame = tk.Frame(window, width=400, height=400)\n",
    "frame.pack()\n",
    "'''\n",
    "#create Functions to Do the Actions\n",
    "def clone(): #This Function takes the Value from the Input Box and Puts it in the TextBox\n",
    "    result = input_box.get()\n",
    "    text.config(state=\"normal\")\n",
    "    text.delete(1.0, tk.END)\n",
    "    text.insert(tk.END, result)\n",
    "    text.config(state=\"disabled\")\n",
    "\n",
    "# create a Label\n",
    "label = tk.Label(window, text=\"Clone Your Word = \")\n",
    "label.pack()\n",
    "\n",
    "# create an input box\n",
    "input_box = tk.Entry(window)\n",
    "input_box.pack()\n",
    "\n",
    "# create text boxes\n",
    "text = tk.Text(window, height=1, width=10, state=\"disabled\")\n",
    "text.pack()\n",
    "\n",
    "# create a button\n",
    "button = tk.Button(window, text=\"Click me!\", command=clone)\n",
    "button.pack()\n",
    "\n",
    "# window.geometry(\"400x400\")\n",
    "window.title(\"My Python GUI for Cloning Words.\")\n",
    "\"\"\"window.mainloop()\"\"\" #   UNCOMMENT THIS TO MAKE IT WORK"
   ]
  },
  {
   "cell_type": "markdown",
   "metadata": {},
   "source": []
  },
  {
   "attachments": {},
   "cell_type": "markdown",
   "metadata": {},
   "source": [
    "    A thread is a sequence of instructions that can run concurrently with other threads within a single process. A process can contain multiple threads, and each thread can perform a different task. Threads share the same memory space and can communicate with each other, making it easier to coordinate tasks that need to be executed simultaneously."
   ]
  },
  {
   "cell_type": "code",
   "execution_count": 9,
   "metadata": {},
   "outputs": [],
   "source": [
    "import threading as trd\n",
    "# import threading"
   ]
  },
  {
   "cell_type": "code",
   "execution_count": 10,
   "metadata": {},
   "outputs": [],
   "source": [
    "def func(word):\n",
    "    print(word)"
   ]
  },
  {
   "cell_type": "code",
   "execution_count": 11,
   "metadata": {},
   "outputs": [
    {
     "name": "stdout",
     "output_type": "stream",
     "text": [
      "(this is sending from a Thread to a function.)\n"
     ]
    }
   ],
   "source": [
    "# Single Thread\n",
    "t1=trd.Thread(target=func,args=(\"(this is sending from a Thread to a function.)\",))\n",
    "t1.start()"
   ]
  },
  {
   "cell_type": "code",
   "execution_count": 12,
   "metadata": {},
   "outputs": [
    {
     "name": "stdout",
     "output_type": "stream",
     "text": [
      "This is sending from a thread to a function, \n",
      "This is sending data from another thread and hence can be calle multithreading...\n"
     ]
    }
   ],
   "source": [
    "# Multi Thread\n",
    "t1=trd.Thread(target=func,args=(\"This is sending from a thread to a function, \",))\n",
    "t2=trd.Thread(target=func,args=(\"This is sending data from another thread and hence can be calle multithreading...\",))\n",
    "t1.start()\n",
    "t2.start()\n",
    "t1.join()\n",
    "t2.join()"
   ]
  },
  {
   "attachments": {},
   "cell_type": "markdown",
   "metadata": {},
   "source": [
    "    In Python, you can create a new thread by using the threading module,\n",
    "    We then create a Thread object and pass func as the target function to be executed in the new thread. Finally, we call the start() method on the thread object to start the thread's execution..."
   ]
  },
  {
   "attachments": {},
   "cell_type": "markdown",
   "metadata": {},
   "source": [
    "    Multithreading is the ability of an operating system or program to manage multiple threads of execution concurrently within a single process. It allows multiple tasks to be executed simultaneously, making the overall performance of the system or program more efficient.   "
   ]
  },
  {
   "attachments": {},
   "cell_type": "markdown",
   "metadata": {},
   "source": [
    "    Each function takes a list of numbers as an argument and calculates the sum or average of the numbers. We pass the same list of numbers to both threads. We use the join() method to wait for both threads to complete before continuing with the main program."
   ]
  },
  {
   "cell_type": "markdown",
   "metadata": {},
   "source": []
  },
  {
   "cell_type": "code",
   "execution_count": null,
   "metadata": {},
   "outputs": [],
   "source": []
  }
 ],
 "metadata": {
  "kernelspec": {
   "display_name": "Python 3",
   "language": "python",
   "name": "python3"
  },
  "language_info": {
   "codemirror_mode": {
    "name": "ipython",
    "version": 3
   },
   "file_extension": ".py",
   "mimetype": "text/x-python",
   "name": "python",
   "nbconvert_exporter": "python",
   "pygments_lexer": "ipython3",
   "version": "3.11.1"
  },
  "orig_nbformat": 4,
  "vscode": {
   "interpreter": {
    "hash": "7efa0102473cc365dc960628bc14c2fa509771872efd5c90b3fcbc26e1dc733a"
   }
  }
 },
 "nbformat": 4,
 "nbformat_minor": 2
}
